{
 "cells": [
  {
   "cell_type": "code",
   "id": "8dc3302e049a0f4b",
   "metadata": {
    "ExecuteTime": {
     "end_time": "2024-10-23T10:05:54.126349Z",
     "start_time": "2024-10-23T10:05:53.780594Z"
    }
   },
   "source": [
    "import re\n",
    "import nltk\n",
    "from nltk.corpus import stopwords\n",
    "import pandas as pd\n",
    "import json\n",
    "import re"
   ],
   "outputs": [],
   "execution_count": 1
  },
  {
   "metadata": {
    "ExecuteTime": {
     "end_time": "2024-10-23T10:05:57.186037Z",
     "start_time": "2024-10-23T10:05:56.946168Z"
    }
   },
   "cell_type": "code",
   "source": [
    "data1 = pd.read_json(\"dataset_easy-twitter-search-scraper_2024-10-22_04-24-59-119.json\")\n",
    "data1.to_csv('data1.csv')"
   ],
   "id": "5e8f3d5011228778",
   "outputs": [],
   "execution_count": 2
  },
  {
   "metadata": {
    "ExecuteTime": {
     "end_time": "2024-10-23T10:05:58.269188Z",
     "start_time": "2024-10-23T10:05:58.206345Z"
    }
   },
   "cell_type": "code",
   "source": [
    "# Load the dataset\n",
    "data2 = pd.read_json(\"dataset_easy-twitter-search-scraper_2024-10-22_02-59-47-561.json\")\n",
    "data2.to_csv('data2.csv')\n"
   ],
   "id": "bb976a24644e9b59",
   "outputs": [],
   "execution_count": 3
  },
  {
   "metadata": {
    "ExecuteTime": {
     "end_time": "2024-10-23T10:05:58.470761Z",
     "start_time": "2024-10-23T10:05:58.427734Z"
    }
   },
   "cell_type": "code",
   "source": [
    "data3 = pd.read_json(\"dataset_easy-twitter-search-scraper_2024-10-22_02-38-15-768.json\")\n",
    "data3.to_csv('data3.csv')"
   ],
   "id": "287ea9ca136427ab",
   "outputs": [],
   "execution_count": 4
  },
  {
   "metadata": {
    "ExecuteTime": {
     "end_time": "2024-10-23T10:05:58.793444Z",
     "start_time": "2024-10-23T10:05:58.778648Z"
    }
   },
   "cell_type": "code",
   "source": [
    "df1 = pd.DataFrame(data1)\n",
    "df2 = pd.DataFrame(data2)\n",
    "df3 = pd.DataFrame(data3)"
   ],
   "id": "e2e68e7e0471f96a",
   "outputs": [],
   "execution_count": 5
  },
  {
   "metadata": {
    "ExecuteTime": {
     "end_time": "2024-10-23T10:07:08.122622Z",
     "start_time": "2024-10-23T10:07:08.106979Z"
    }
   },
   "cell_type": "code",
   "source": "data = pd.concat([df1, df2, df3], ignore_index=True)",
   "id": "8f969064a6a488b",
   "outputs": [],
   "execution_count": 9
  },
  {
   "metadata": {
    "ExecuteTime": {
     "end_time": "2024-10-23T10:07:08.633146Z",
     "start_time": "2024-10-23T10:07:08.617226Z"
    }
   },
   "cell_type": "code",
   "source": [
    "# Convert the JSON data to a pandas DataFrame\n",
    "df = pd.DataFrame(data)\n",
    "\n",
    "# Display the first few rows of the dataset to understand its structure\n",
    "print(\"Original Dataset:\")\n",
    "print(df.head())"
   ],
   "id": "cfec6dfc357293d6",
   "outputs": [
    {
     "name": "stdout",
     "output_type": "stream",
     "text": [
      "Original Dataset:\n",
      "                    id                                                url  \\\n",
      "0  1848565728275746816  https://twitter.com/Don_Mozke/status/184856572...   \n",
      "1  1848565714145234944  https://twitter.com/assblastinator/status/1848...   \n",
      "2  1848565686412398848  https://twitter.com/worshipsLNL/status/1848565...   \n",
      "3  1848538257161695232  https://twitter.com/joma_gc/status/18485382571...   \n",
      "4  1848446692158542080  https://twitter.com/jackstr06894034/status/184...   \n",
      "\n",
      "   verified          username                                fullname  \\\n",
      "0     False        @Don_Mozke                        Gleyson Mosquera   \n",
      "1     False   @assblastinator  Kit | back on emanator duty for Sunday   \n",
      "2     False      @worshipsLNL                        worshipsladynina   \n",
      "3      True          @joma_gc                              Bad Hombre   \n",
      "4     False  @jackstr06894034                              jackstrong   \n",
      "\n",
      "                                              avatar  \\\n",
      "0  https://cdn.xcancel.comhttps://pbs.twimg.com/p...   \n",
      "1  https://cdn.xcancel.comhttps://pbs.twimg.com/p...   \n",
      "2  https://cdn.xcancel.comhttps://pbs.twimg.com/p...   \n",
      "3  https://cdn.xcancel.comhttps://pbs.twimg.com/p...   \n",
      "4  https://cdn.xcancel.comhttps://pbs.twimg.com/p...   \n",
      "\n",
      "                  timestamp  \\\n",
      "0 2024-10-22 03:23:00+00:00   \n",
      "1 2024-10-22 03:23:00+00:00   \n",
      "2 2024-10-22 03:22:00+00:00   \n",
      "3 2024-10-22 01:33:00+00:00   \n",
      "4 2024-10-21 19:30:00+00:00   \n",
      "\n",
      "                                                text links  isQuote  \\\n",
      "0  JH es el propio Mike Tyson de temu 🤣 que maner...    []    False   \n",
      "1                                      TEMU WANDERER    []    False   \n",
      "2  Only when old lady Chia heard these  😮‍💨🧱📋👨‍🦼 ...    []    False   \n",
      "3                       When you order joy off Temu.    []    False   \n",
      "4  Złoto wzrosło o 17 USD, co oznacza, że ​​Polsk...    []    False   \n",
      "\n",
      "   isRetweet  isReply        replyingTo  likes  replies  retweets  quotes  \\\n",
      "0      False     True  [/BlessdOficial]      0        0         0       0   \n",
      "1      False    False               NaN      0        0         0       0   \n",
      "2      False    False               NaN      0        0         0       0   \n",
      "3       True    False               NaN   3303       98       555      28   \n",
      "4       True    False               NaN    404       20       128       5   \n",
      "\n",
      "  searchQuery                                             images quotedTweet  \n",
      "0        Temu                                                NaN         NaN  \n",
      "1        Temu                                                NaN         NaN  \n",
      "2        Temu                                                NaN         NaN  \n",
      "3        Temu  [https://cdn.xcancel.comhttps://pbs.twimg.com/...         NaN  \n",
      "4        Temu  [https://cdn.xcancel.comhttps://pbs.twimg.com/...         NaN  \n"
     ]
    }
   ],
   "execution_count": 10
  },
  {
   "metadata": {
    "ExecuteTime": {
     "end_time": "2024-10-23T10:07:09.277074Z",
     "start_time": "2024-10-23T10:07:09.151532Z"
    }
   },
   "cell_type": "code",
   "source": [
    "# Select columns that are necessary\n",
    "columns_to_keep = ['id', 'username', 'timestamp', 'text', 'likes', 'replies', 'retweets', 'quotes']\n",
    "\n",
    "# Drop the rest of the columns\n",
    "cleaned_df = data[columns_to_keep]\n",
    "\n",
    "# Display the cleaned dataset\n",
    "print(cleaned_df.head())\n",
    "\n",
    "# Optionally save the cleaned data to CSV\n",
    "cleaned_df.to_csv('cleaned_twitter_data.csv', index=False)\n"
   ],
   "id": "5baf56e58422f285",
   "outputs": [
    {
     "name": "stdout",
     "output_type": "stream",
     "text": [
      "                    id          username                 timestamp  \\\n",
      "0  1848565728275746816        @Don_Mozke 2024-10-22 03:23:00+00:00   \n",
      "1  1848565714145234944   @assblastinator 2024-10-22 03:23:00+00:00   \n",
      "2  1848565686412398848      @worshipsLNL 2024-10-22 03:22:00+00:00   \n",
      "3  1848538257161695232          @joma_gc 2024-10-22 01:33:00+00:00   \n",
      "4  1848446692158542080  @jackstr06894034 2024-10-21 19:30:00+00:00   \n",
      "\n",
      "                                                text  likes  replies  \\\n",
      "0  JH es el propio Mike Tyson de temu 🤣 que maner...      0        0   \n",
      "1                                      TEMU WANDERER      0        0   \n",
      "2  Only when old lady Chia heard these  😮‍💨🧱📋👨‍🦼 ...      0        0   \n",
      "3                       When you order joy off Temu.   3303       98   \n",
      "4  Złoto wzrosło o 17 USD, co oznacza, że ​​Polsk...    404       20   \n",
      "\n",
      "   retweets  quotes  \n",
      "0         0       0  \n",
      "1         0       0  \n",
      "2         0       0  \n",
      "3       555      28  \n",
      "4       128       5  \n"
     ]
    }
   ],
   "execution_count": 11
  },
  {
   "metadata": {
    "ExecuteTime": {
     "end_time": "2024-10-23T10:07:09.784931Z",
     "start_time": "2024-10-23T10:07:09.753385Z"
    }
   },
   "cell_type": "code",
   "source": "data['timestamp'] = pd.to_datetime(df['timestamp'])",
   "id": "a11b6f89335fd766",
   "outputs": [],
   "execution_count": 12
  },
  {
   "metadata": {
    "ExecuteTime": {
     "end_time": "2024-10-23T10:07:10.839742Z",
     "start_time": "2024-10-23T10:07:10.209619Z"
    }
   },
   "cell_type": "code",
   "source": [
    "# Download the stopwords dataset\n",
    "nltk.download('stopwords')"
   ],
   "id": "6e9aac3d1f7353fd",
   "outputs": [
    {
     "name": "stderr",
     "output_type": "stream",
     "text": [
      "[nltk_data] Downloading package stopwords to\n",
      "[nltk_data]     C:\\Users\\imran\\AppData\\Roaming\\nltk_data...\n",
      "[nltk_data]   Package stopwords is already up-to-date!\n"
     ]
    },
    {
     "data": {
      "text/plain": [
       "True"
      ]
     },
     "execution_count": 13,
     "metadata": {},
     "output_type": "execute_result"
    }
   ],
   "execution_count": 13
  },
  {
   "metadata": {
    "ExecuteTime": {
     "end_time": "2024-10-23T10:07:10.950899Z",
     "start_time": "2024-10-23T10:07:10.855428Z"
    }
   },
   "cell_type": "code",
   "source": [
    "# Clean the 'text' column: remove URLs, hashtags, mentions, and unnecessary characters from the tweets\n",
    "def clean_text(text):\n",
    "    if not isinstance(text, str):\n",
    "        text = ''\n",
    "    # Remove URLs\n",
    "    text = re.sub(r\"http\\S+|www\\S+|https\\S+\", '', text, flags=re.MULTILINE)\n",
    "    # Remove mentions\n",
    "    text = re.sub(r'\\@\\w+|\\#', '', text)\n",
    "    # Remove non-alphanumeric characters\n",
    "    text = re.sub(r'[^\\w\\s]', '', text)\n",
    "    return text\n",
    "\n",
    "data['clean_content'] = data['text'].apply(clean_text)\n",
    "\n",
    "# Display the first few rows of the cleaned dataset\n",
    "print(\"Cleaned Dataset:\")\n",
    "print(data.head())"
   ],
   "id": "d62c4bb801e0d01e",
   "outputs": [
    {
     "name": "stdout",
     "output_type": "stream",
     "text": [
      "Cleaned Dataset:\n",
      "                    id                                                url  \\\n",
      "0  1848565728275746816  https://twitter.com/Don_Mozke/status/184856572...   \n",
      "1  1848565714145234944  https://twitter.com/assblastinator/status/1848...   \n",
      "2  1848565686412398848  https://twitter.com/worshipsLNL/status/1848565...   \n",
      "3  1848538257161695232  https://twitter.com/joma_gc/status/18485382571...   \n",
      "4  1848446692158542080  https://twitter.com/jackstr06894034/status/184...   \n",
      "\n",
      "   verified          username                                fullname  \\\n",
      "0     False        @Don_Mozke                        Gleyson Mosquera   \n",
      "1     False   @assblastinator  Kit | back on emanator duty for Sunday   \n",
      "2     False      @worshipsLNL                        worshipsladynina   \n",
      "3      True          @joma_gc                              Bad Hombre   \n",
      "4     False  @jackstr06894034                              jackstrong   \n",
      "\n",
      "                                              avatar  \\\n",
      "0  https://cdn.xcancel.comhttps://pbs.twimg.com/p...   \n",
      "1  https://cdn.xcancel.comhttps://pbs.twimg.com/p...   \n",
      "2  https://cdn.xcancel.comhttps://pbs.twimg.com/p...   \n",
      "3  https://cdn.xcancel.comhttps://pbs.twimg.com/p...   \n",
      "4  https://cdn.xcancel.comhttps://pbs.twimg.com/p...   \n",
      "\n",
      "                  timestamp  \\\n",
      "0 2024-10-22 03:23:00+00:00   \n",
      "1 2024-10-22 03:23:00+00:00   \n",
      "2 2024-10-22 03:22:00+00:00   \n",
      "3 2024-10-22 01:33:00+00:00   \n",
      "4 2024-10-21 19:30:00+00:00   \n",
      "\n",
      "                                                text links  isQuote  ...  \\\n",
      "0  JH es el propio Mike Tyson de temu 🤣 que maner...    []    False  ...   \n",
      "1                                      TEMU WANDERER    []    False  ...   \n",
      "2  Only when old lady Chia heard these  😮‍💨🧱📋👨‍🦼 ...    []    False  ...   \n",
      "3                       When you order joy off Temu.    []    False  ...   \n",
      "4  Złoto wzrosło o 17 USD, co oznacza, że ​​Polsk...    []    False  ...   \n",
      "\n",
      "   isReply        replyingTo likes  replies  retweets  quotes  searchQuery  \\\n",
      "0     True  [/BlessdOficial]     0        0         0       0         Temu   \n",
      "1    False               NaN     0        0         0       0         Temu   \n",
      "2    False               NaN     0        0         0       0         Temu   \n",
      "3    False               NaN  3303       98       555      28         Temu   \n",
      "4    False               NaN   404       20       128       5         Temu   \n",
      "\n",
      "                                              images quotedTweet  \\\n",
      "0                                                NaN         NaN   \n",
      "1                                                NaN         NaN   \n",
      "2                                                NaN         NaN   \n",
      "3  [https://cdn.xcancel.comhttps://pbs.twimg.com/...         NaN   \n",
      "4  [https://cdn.xcancel.comhttps://pbs.twimg.com/...         NaN   \n",
      "\n",
      "                                       clean_content  \n",
      "0  JH es el propio Mike Tyson de temu  que manera...  \n",
      "1                                      TEMU WANDERER  \n",
      "2  Only when old lady Chia heard these   \\n\\nTemu...  \n",
      "3                        When you order joy off Temu  \n",
      "4  Złoto wzrosło o 17 USD co oznacza że Polska za...  \n",
      "\n",
      "[5 rows x 21 columns]\n"
     ]
    }
   ],
   "execution_count": 14
  },
  {
   "metadata": {
    "ExecuteTime": {
     "end_time": "2024-10-23T10:07:15.311907Z",
     "start_time": "2024-10-23T10:07:15.282459Z"
    }
   },
   "cell_type": "code",
   "source": [
    "# Display a sample of the cleaned data\n",
    "print(data[['text', 'clean_content']].head())"
   ],
   "id": "c9c2c76cf4f44351",
   "outputs": [
    {
     "name": "stdout",
     "output_type": "stream",
     "text": [
      "                                                text  \\\n",
      "0  JH es el propio Mike Tyson de temu 🤣 que maner...   \n",
      "1                                      TEMU WANDERER   \n",
      "2  Only when old lady Chia heard these  😮‍💨🧱📋👨‍🦼 ...   \n",
      "3                       When you order joy off Temu.   \n",
      "4  Złoto wzrosło o 17 USD, co oznacza, że ​​Polsk...   \n",
      "\n",
      "                                       clean_content  \n",
      "0  JH es el propio Mike Tyson de temu  que manera...  \n",
      "1                                      TEMU WANDERER  \n",
      "2  Only when old lady Chia heard these   \\n\\nTemu...  \n",
      "3                        When you order joy off Temu  \n",
      "4  Złoto wzrosło o 17 USD co oznacza że Polska za...  \n"
     ]
    }
   ],
   "execution_count": 15
  },
  {
   "metadata": {
    "collapsed": true,
    "ExecuteTime": {
     "end_time": "2024-10-23T10:07:16.653312Z",
     "start_time": "2024-10-23T10:07:16.350709Z"
    }
   },
   "cell_type": "code",
   "source": [
    "# Optionally save the cleaned data to CSV\n",
    "data.to_csv('cleaned_twitter_data.csv', index=False)"
   ],
   "id": "initial_id",
   "outputs": [],
   "execution_count": 16
  },
  {
   "metadata": {
    "ExecuteTime": {
     "end_time": "2024-10-23T10:09:30.600752Z",
     "start_time": "2024-10-23T10:09:30.562200Z"
    }
   },
   "cell_type": "code",
   "source": [
    "data.head()\n",
    "print(data.head)"
   ],
   "id": "cef329a7071e7818",
   "outputs": [
    {
     "name": "stdout",
     "output_type": "stream",
     "text": [
      "<bound method NDFrame.head of                         id                                                url  \\\n",
      "0      1848565728275746816  https://twitter.com/Don_Mozke/status/184856572...   \n",
      "1      1848565714145234944  https://twitter.com/assblastinator/status/1848...   \n",
      "2      1848565686412398848  https://twitter.com/worshipsLNL/status/1848565...   \n",
      "3      1848538257161695232  https://twitter.com/joma_gc/status/18485382571...   \n",
      "4      1848446692158542080  https://twitter.com/jackstr06894034/status/184...   \n",
      "...                    ...                                                ...   \n",
      "12094  1815476669656002560  https://twitter.com/familyfirst50/status/18154...   \n",
      "12095  1815465318690758656  https://twitter.com/LolaFaglana/status/1815465...   \n",
      "12096  1815464890477539584  https://twitter.com/america_mad/status/1815464...   \n",
      "12097  1815461752752185856  https://twitter.com/ashtoshii/status/181546175...   \n",
      "12098  1815460217943146752  https://twitter.com/CatVonDont/status/18154602...   \n",
      "\n",
      "       verified          username                                fullname  \\\n",
      "0         False        @Don_Mozke                        Gleyson Mosquera   \n",
      "1         False   @assblastinator  Kit | back on emanator duty for Sunday   \n",
      "2         False      @worshipsLNL                        worshipsladynina   \n",
      "3          True          @joma_gc                              Bad Hombre   \n",
      "4         False  @jackstr06894034                              jackstrong   \n",
      "...         ...               ...                                     ...   \n",
      "12094     False    @familyfirst50                              QuinsLynne   \n",
      "12095     False      @LolaFaglana                   Fergiween 🏳️‍🌈 🧡🐈‍⬛🎃🦇   \n",
      "12096      True      @america_mad                        Mad Bull America   \n",
      "12097      True        @ashtoshii                           (cr)Ashtoshii   \n",
      "12098     False       @CatVonDont              cat von don't 🐦‍⬛🐦‍⬛🐦‍⬛🐦‍⬛   \n",
      "\n",
      "                                                  avatar  \\\n",
      "0      https://cdn.xcancel.comhttps://pbs.twimg.com/p...   \n",
      "1      https://cdn.xcancel.comhttps://pbs.twimg.com/p...   \n",
      "2      https://cdn.xcancel.comhttps://pbs.twimg.com/p...   \n",
      "3      https://cdn.xcancel.comhttps://pbs.twimg.com/p...   \n",
      "4      https://cdn.xcancel.comhttps://pbs.twimg.com/p...   \n",
      "...                                                  ...   \n",
      "12094  https://cdn.xcancel.comhttps://pbs.twimg.com/p...   \n",
      "12095  https://cdn.xcancel.comhttps://pbs.twimg.com/p...   \n",
      "12096  https://cdn.xcancel.comhttps://pbs.twimg.com/p...   \n",
      "12097  https://cdn.xcancel.comhttps://pbs.twimg.com/p...   \n",
      "12098  https://cdn.xcancel.comhttps://pbs.twimg.com/p...   \n",
      "\n",
      "                      timestamp  \\\n",
      "0     2024-10-22 03:23:00+00:00   \n",
      "1     2024-10-22 03:23:00+00:00   \n",
      "2     2024-10-22 03:22:00+00:00   \n",
      "3     2024-10-22 01:33:00+00:00   \n",
      "4     2024-10-21 19:30:00+00:00   \n",
      "...                         ...   \n",
      "12094 2024-07-22 19:59:00+00:00   \n",
      "12095 2024-07-22 19:13:00+00:00   \n",
      "12096 2024-07-22 19:12:00+00:00   \n",
      "12097 2024-07-22 18:59:00+00:00   \n",
      "12098 2024-07-22 18:53:00+00:00   \n",
      "\n",
      "                                                    text links  isQuote  ...  \\\n",
      "0      JH es el propio Mike Tyson de temu 🤣 que maner...    []    False  ...   \n",
      "1                                          TEMU WANDERER    []    False  ...   \n",
      "2      Only when old lady Chia heard these  😮‍💨🧱📋👨‍🦼 ...    []    False  ...   \n",
      "3                           When you order joy off Temu.    []    False  ...   \n",
      "4      Złoto wzrosło o 17 USD, co oznacza, że ​​Polsk...    []    False  ...   \n",
      "...                                                  ...   ...      ...  ...   \n",
      "12094  Temu for me. Never clicked on, never ordered &...    []    False  ...   \n",
      "12095  Twitter is becoming a bigger shithole. Now I'm...    []    False  ...   \n",
      "12096  Rep Jefferies is what happens when you buy you...    []    False  ...   \n",
      "12097  sometimes you just gotta put on the Temu wig a...    []    False  ...   \n",
      "12098  Thoughts and prayers with anyone who is being ...    []    False  ...   \n",
      "\n",
      "       isReply        replyingTo likes  replies  retweets  quotes  \\\n",
      "0         True  [/BlessdOficial]     0        0         0       0   \n",
      "1        False               NaN     0        0         0       0   \n",
      "2        False               NaN     0        0         0       0   \n",
      "3        False               NaN  3303       98       555      28   \n",
      "4        False               NaN   404       20       128       5   \n",
      "...        ...               ...   ...      ...       ...     ...   \n",
      "12094     True  [/brianmoore666]    56        7         1       0   \n",
      "12095    False               NaN    43        9         2       1   \n",
      "12096     True    [/RepJeffries]   313        9        15       2   \n",
      "12097    False               NaN    35        7         2       1   \n",
      "12098    False               NaN    30        6         0       0   \n",
      "\n",
      "       searchQuery                                             images  \\\n",
      "0             Temu                                                NaN   \n",
      "1             Temu                                                NaN   \n",
      "2             Temu                                                NaN   \n",
      "3             Temu  [https://cdn.xcancel.comhttps://pbs.twimg.com/...   \n",
      "4             Temu  [https://cdn.xcancel.comhttps://pbs.twimg.com/...   \n",
      "...            ...                                                ...   \n",
      "12094         Temu                                                NaN   \n",
      "12095         Temu                                                NaN   \n",
      "12096         Temu                                                NaN   \n",
      "12097         Temu                                                NaN   \n",
      "12098         Temu                                                NaN   \n",
      "\n",
      "      quotedTweet                                      clean_content  \n",
      "0             NaN  JH es el propio Mike Tyson de temu  que manera...  \n",
      "1             NaN                                      TEMU WANDERER  \n",
      "2             NaN  Only when old lady Chia heard these   \\n\\nTemu...  \n",
      "3             NaN                        When you order joy off Temu  \n",
      "4             NaN  Złoto wzrosło o 17 USD co oznacza że Polska za...  \n",
      "...           ...                                                ...  \n",
      "12094         NaN  Temu for me Never clicked on never ordered  al...  \n",
      "12095         NaN  Twitter is becoming a bigger shithole Now Im g...  \n",
      "12096         NaN  Rep Jefferies is what happens when you buy you...  \n",
      "12097         NaN  sometimes you just gotta put on the Temu wig a...  \n",
      "12098         NaN  Thoughts and prayers with anyone who is being ...  \n",
      "\n",
      "[12099 rows x 21 columns]>\n"
     ]
    }
   ],
   "execution_count": 17
  },
  {
   "metadata": {},
   "cell_type": "code",
   "outputs": [],
   "execution_count": null,
   "source": "",
   "id": "30b1945bc8f55956"
  }
 ],
 "metadata": {
  "kernelspec": {
   "display_name": "Python 3",
   "language": "python",
   "name": "python3"
  },
  "language_info": {
   "codemirror_mode": {
    "name": "ipython",
    "version": 2
   },
   "file_extension": ".py",
   "mimetype": "text/x-python",
   "name": "python",
   "nbconvert_exporter": "python",
   "pygments_lexer": "ipython2",
   "version": "2.7.6"
  }
 },
 "nbformat": 4,
 "nbformat_minor": 5
}
